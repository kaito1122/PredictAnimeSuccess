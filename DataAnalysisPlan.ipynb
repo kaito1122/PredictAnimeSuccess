{
 "cells": [
  {
   "cell_type": "markdown",
   "id": "b65e815a",
   "metadata": {},
   "source": [
    "# Data and Analysis Plan: Anime Recommendation System\n",
    "## Team - 67\n",
    "\n",
    "- Marcos Equiza Gasco (equizagasco.m@northeastern.edu)\n",
    "- Kelsey Nihezagirwe (nihezagirwe.k@northeastern.edu)'\n",
    "- Olivia Mintz (mintz.o@northeastern.edu ) \n",
    "- Nathan Brito (brito.n@northeastern.edu)\n"
   ]
  },
  {
   "cell_type": "markdown",
   "id": "7bf63f7b",
   "metadata": {},
   "source": [
    "## Project Goal:\n",
    "Our project will use lists of anime titles from the streaming platform [Crunchyroll](https://crunchyroll.com/) to recommend a new anime to users who input some anime that they already enjoy. Additionally, it will have a second feature that recommends a title based on some features (genre, year, duration, etc.) that the user inputs."
   ]
  },
  {
   "cell_type": "markdown",
   "id": "67543a0f",
   "metadata": {},
   "source": [
    "## Data \n",
    "\n",
    "### Overview \n",
    "We will use a [list of all anime titles available on Crunchyroll](https://www.crunchyroll.com/videos/popular). A dataset found on [kaggle](https://www.kaggle.com/datasets/victorsoeiro/crunchyroll-animes-and-movies?select=titles.csv) has compiled the information for every title.\n",
    "\n",
    "<img src=\"Crunchyroll.png\" width=500>\n",
    "\n",
    "The data set we obtained from kaggle contains the following details:\n",
    "- id\n",
    "- title\n",
    "- type\n",
    "- description\n",
    "- release year\n",
    "- age certification\n",
    "- runtime\n",
    "- genres\n",
    "- production countries\n",
    "- seasons\n",
    "- imdb id\n",
    "- imdb_score\n",
    "- imdb_votes\n",
    "- tmdb_popularity\n",
    "- tmdb_score\n",
    "\n",
    "Throughout this project we plan on using and analyzing the following columns (features) for our model:\n",
    "- title\n",
    "- release_year \n",
    "- age_certification\n",
    "- genre\n",
    "- seasons\n",
    "- avg_score (computed score from imdb_score and tmbd_score)\n",
    "\n",
    "### Pipeline Overview\n",
    "\n",
    "Given that our data has already been compiled into a data set, not that much pre-processing is needed. We will load all of the raw data into a data frame `df_anime`. As mentioned above, a new column will be added to this rudimentary data frame, `avg_score`, which will be the computed average score between the IMDb and TMDb scores. \n",
    "\n",
    "After this is computed, a new data frame, `df_anime_feat`, will be compiled with only the necessary features (listed above) for our model. This will simply remove those that are not needed for the analysis. All rows with missing data will be discarded. Altough this step significantly reduces the size of the data from 1081 to 639 rows, it is necessary for our model to function (looked at `df_anime_feat.shape()` before and after discarding rows). Additionally, to make the classification of genres easier, separate columns for each specific genre, `genre_name` will be made, and the values for that column will be `bool`, indicating whether a specific title is associated with that genre or not. The process will be the following:\n",
    "- Clean up the `genres` column: it is a str which represents a list of the genres.\n",
    "    - Make a `final_genres` list that contains all the unique genres in the data set.\n",
    "- Create new columns, `genre_name`, and indicate with a `bool` whether the given anime is categorized as that genre or not.\n",
    "\n",
    "To make each feature comparable, another data frame will be made, `df_anime_feat_std`, which will contain standardized values for the quantitative features (this will not include `title` or `certification`). This will help make our model more effective down the line.\n",
    "\n"
   ]
  },
  {
   "cell_type": "code",
   "execution_count": 1,
   "id": "a2eeebb4",
   "metadata": {},
   "outputs": [],
   "source": [
    "import pandas as pd\n",
    "import matplotlib.pyplot as plt\n",
    "import plotly.express as px\n",
    "import seaborn as sns\n",
    "import numpy as np"
   ]
  },
  {
   "cell_type": "code",
   "execution_count": null,
   "id": "b315ef31",
   "metadata": {},
   "outputs": [],
   "source": [
    "# read csv\n",
    "pd.read_csv('titles.csv')\n",
    "\n",
    "# make the data frame of anime titles\n",
    "df_anime = pd.read_csv('titles.csv', index_col=None)\n",
    "df_anime.head()"
   ]
  },
  {
   "cell_type": "code",
   "execution_count": null,
   "id": "46196324",
   "metadata": {},
   "outputs": [],
   "source": [
    "# make new column with average score\n",
    "df_anime['avg_score'] = (df_anime['imdb_score'] + df_anime['tmdb_score']) / 2\n",
    "\n",
    "df_anime.head()"
   ]
  },
  {
   "cell_type": "code",
   "execution_count": null,
   "id": "dd030664",
   "metadata": {},
   "outputs": [],
   "source": [
    "# list of features of interest for model\n",
    "feat_list = ['title', 'release_year', 'age_certification', 'genres', 'seasons', 'avg_score']\n",
    "\n",
    "# make new data frame with only features we are interested in\n",
    "df_anime_feat = df_anime[feat_list].copy()\n",
    "\n",
    "# inspect size\n",
    "df_anime_feat.shape"
   ]
  },
  {
   "cell_type": "code",
   "execution_count": null,
   "id": "d205581b",
   "metadata": {},
   "outputs": [],
   "source": [
    "df_anime_feat.head()"
   ]
  },
  {
   "cell_type": "code",
   "execution_count": null,
   "id": "b3e980ce",
   "metadata": {},
   "outputs": [],
   "source": [
    "# discard any rows missing data\n",
    "df_anime_feat.dropna(axis=0, inplace=True)\n",
    "\n",
    "# inspect size\n",
    "df_anime_feat.shape"
   ]
  },
  {
   "cell_type": "code",
   "execution_count": null,
   "id": "c27604a5",
   "metadata": {},
   "outputs": [],
   "source": [
    "df_anime_feat.head()"
   ]
  },
  {
   "cell_type": "code",
   "execution_count": null,
   "id": "b07c7f2d",
   "metadata": {},
   "outputs": [],
   "source": [
    "# clean up the data in the 'genres' column and make into a list\n",
    "genres = df_anime_feat.loc[:, 'genres']\n",
    "genres_clean = []\n",
    "\n",
    "# split the values\n",
    "for anime in genres:\n",
    "    genres_clean.append(anime.split(\"', '\"))\n",
    "\n",
    "# get rid of the brackets\n",
    "for anime in genres_clean:\n",
    "    anime[0] = anime[0][2:]\n",
    "    anime[-1] = anime[-1][:-2]\n",
    "\n",
    "# display\n",
    "genres_clean[0:5]"
   ]
  },
  {
   "cell_type": "code",
   "execution_count": null,
   "id": "01619ce6",
   "metadata": {},
   "outputs": [],
   "source": [
    "# create a list with all the unique genres in the data set\n",
    "genres_final = []\n",
    "for anime in genres_clean:\n",
    "    for genre in anime:\n",
    "        if genre not in genres_final:\n",
    "            genres_final.append(genre)\n",
    "            \n",
    "# display\n",
    "genres_final"
   ]
  },
  {
   "cell_type": "code",
   "execution_count": null,
   "id": "5e8ccf8c",
   "metadata": {
    "scrolled": false
   },
   "outputs": [],
   "source": [
    "# update the data frame with the clean genres column\n",
    "df_anime_feat['genres'] = genres_clean\n",
    "df_anime_feat.head()"
   ]
  },
  {
   "cell_type": "code",
   "execution_count": null,
   "id": "9e6a6514",
   "metadata": {},
   "outputs": [],
   "source": [
    "# make new columns for each genre and update with bool value\n",
    "for genre in genres_final:\n",
    "    df_anime_feat[genre] = (genre in df_anime_feat['genres'])\n",
    "    \n",
    "df_anime_feat"
   ]
  },
  {
   "cell_type": "markdown",
   "id": "37a04c09",
   "metadata": {},
   "source": [
    "### Issue\n",
    "\n",
    "We were trying to make individual columns for each genre that outputted True if the genre was associated with the anime title (in the above cell). We could not figure out what we were doing wrong, as everything outputted `False`. The below cell replicates the expected behavior, but we will try to resolve this issue as we progress in the project.\n",
    "\n",
    "The next step was to standardize the data frame, but since we were unable to make the `genre` columns successfully, we are not able to do. We will also complete this step after we are able to make the appropriate columns. "
   ]
  },
  {
   "cell_type": "code",
   "execution_count": null,
   "id": "6b62f682",
   "metadata": {},
   "outputs": [],
   "source": [
    "genres_final[1] in df_anime_feat['genres'][0]\n",
    "\n",
    "#'scifi' in df_anime_feat.loc[0, 'genres']"
   ]
  },
  {
   "cell_type": "markdown",
   "id": "41cb1dbe",
   "metadata": {},
   "source": [
    "### Visualizations (sanity check / data exploration)\n",
    "\n",
    "The first graph shows a somewhat interactive visualization which attempts to show all of the information that is needed for a specific anime title in our model. Each dot represents an anime title, categorized by the year it was released and the average score it has received. It is labeled based on its age certification category. When the user hovers over any dot, they can find that information along with the anime's title, the genres associated with it, and the number of seasons it has. This visualization attempts to show the user all of the information that will be used for the model. Although the points are too clustered to analyze how age_certification is spread out throughout our dataset, we can see that most of the anime were released within the last decade. Furthermore, we can see how on average these anime are scored above 7. It seems as though more recent animes are well-liked among viewers. It also appears that the majority of the anime observer in the dataset has an age certification of TV-14.\n",
    "\n",
    "\n",
    "The second visualization represents a histogram that compares the scores given to the anime titles in the data set from two different websites, IMDb and TMDb. Altough a computed `avg_score` is used in our model and analysis, this graph shows how the websites compare to each other. It would probably be beneficial to have more websites providing scores to have a better `avg_score`, but we thought it would be an interesting feature to visualize."
   ]
  },
  {
   "cell_type": "code",
   "execution_count": null,
   "id": "c9ac9b28",
   "metadata": {},
   "outputs": [],
   "source": [
    "feat0 = 'release_year'\n",
    "feat1 = 'avg_score'\n",
    "\n",
    "sns.set(font_scale=1.2)\n",
    "\n",
    "px.scatter(data_frame=df_anime_feat, x=feat0, y=feat1, color='age_certification', hover_data=['title', 'genres', 'seasons'])"
   ]
  },
  {
   "cell_type": "code",
   "execution_count": null,
   "id": "a8132bcb",
   "metadata": {},
   "outputs": [],
   "source": [
    "# get the column with imbd scores\n",
    "imbd_score = df_anime.loc[:, \"imdb_score\"]\n",
    "\n",
    "# get the column with tmbd scores\n",
    "tmbd_score = df_anime.loc[:, \"tmdb_score\"]\n",
    "\n",
    "sns.set(font_scale = 1.2)\n",
    "bins = np.linspace(0, 10, 10)\n",
    "\n",
    "# make a histogram\n",
    "plt.hist(imbd_score, color = \"r\", alpha = 0.9, label = \"IMDb\", bins = bins)\n",
    "plt.hist(tmbd_score, color = \"g\", alpha = 0.5, label = \"TMDB\", bins = bins)\n",
    "plt.xlabel(\"rating\")\n",
    "plt.ylabel(\"count\")\n",
    "plt.xticks([0, 1, 2, 3, 4, 5, 6, 7, 8, 9,10])\n",
    "plt.title(\"Histogram of Anime Ratings on IMDb vs TMBD\")\n",
    "plt.legend()\n"
   ]
  },
  {
   "cell_type": "markdown",
   "id": "d0159062",
   "metadata": {},
   "source": [
    "### Analysis Plan\n",
    "Machine Learning Tools: *SciKit* (K-nearest neighbors) and *SKLearn* (Tree). \n",
    "\n",
    "The user inputs a list of titles they’ve watched and enjoyed, and based on the features of these shows (`release_year`, `age_certification`, etc.), the model tries to predict a list of anime that the user might like. We think that **k-NN** is the best because we can pass a list of features from the list of anime and return a list of titles that are similar to the anime that the user has watched. We think that, the more similar an anime is to the list the user has inputted, the better the recommendation. This approach will likely also work for the second feature we want to include, which predicts anime based on a list of features the user inputs. Finding the titles that most resemble that list would be a successful find.\n",
    "\n",
    "A **decision tree** can also be used to learn more about how the genres are distributed, since every anime has at least 3 or 4 genres associated with it. Using the decision tree can allow us to understand how genres are clustered, and make better prediction for titles by \"optimizing\" the combinations of genres.\n",
    "\n",
    "**Relevant assumptions**: \n",
    "For k-nearest neighbors, an assumption is made that several titles’ genres are connected and represent multiple genres.\n",
    "\n",
    "**Use cases**: \n",
    "We can build new title recommenders based on year of release, age certification, seasons, genres or a combination of these categories.\n"
   ]
  }
 ],
 "metadata": {
  "kernelspec": {
   "display_name": "Python 3 (ipykernel)",
   "language": "python",
   "name": "python3"
  },
  "language_info": {
   "codemirror_mode": {
    "name": "ipython",
    "version": 3
   },
   "file_extension": ".py",
   "mimetype": "text/x-python",
   "name": "python",
   "nbconvert_exporter": "python",
   "pygments_lexer": "ipython3",
   "version": "3.9.12"
  }
 },
 "nbformat": 4,
 "nbformat_minor": 5
}
